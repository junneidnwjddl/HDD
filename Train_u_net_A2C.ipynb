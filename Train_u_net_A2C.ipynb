{
  "nbformat": 4,
  "nbformat_minor": 0,
  "metadata": {
    "colab": {
      "name": "Train_u-net_A2C.ipynb",
      "provenance": [],
      "collapsed_sections": []
    },
    "kernelspec": {
      "name": "python3",
      "display_name": "Python 3"
    },
    "language_info": {
      "name": "python"
    },
    "accelerator": "GPU"
  },
  "cells": [
    {
      "cell_type": "code",
      "metadata": {
        "id": "r0WsnX427hCZ",
        "colab": {
          "base_uri": "https://localhost:8080/"
        },
        "outputId": "a9529d18-f971-46f4-e3b9-a5815d0296ac"
      },
      "source": [
        "from google.colab import drive\n",
        "drive.mount('/content/drive')"
      ],
      "execution_count": 1,
      "outputs": [
        {
          "output_type": "stream",
          "name": "stdout",
          "text": [
            "Mounted at /content/drive\n"
          ]
        }
      ]
    },
    {
      "cell_type": "code",
      "metadata": {
        "id": "hH1IEUYM66Jj"
      },
      "source": [
        "import numpy as np\n",
        "# 데이터 로드\n",
        "X = np.load('drive/MyDrive/Heart Disease/dataset/train/X_train_A2C.npy')\n",
        "Y = np.load('drive/MyDrive/Heart Disease/dataset/train/Y_train_A2C.npy')\n",
        "X_val = np.load('drive/MyDrive/Heart Disease/dataset/validation/X_val_A2C.npy')\n",
        "Y_val = np.load('drive/MyDrive/Heart Disease/dataset/validation/Y_val_A2C.npy')"
      ],
      "execution_count": 2,
      "outputs": []
    },
    {
      "cell_type": "code",
      "metadata": {
        "id": "FAc2Kzpy98L3"
      },
      "source": [
        "num_train_examples = len(X)\n",
        "num_test_examples = len(X_val)"
      ],
      "execution_count": 3,
      "outputs": []
    },
    {
      "cell_type": "markdown",
      "metadata": {
        "id": "8AXPBFeq70j1"
      },
      "source": [
        "## DataLoader"
      ]
    },
    {
      "cell_type": "code",
      "metadata": {
        "colab": {
          "base_uri": "https://localhost:8080/"
        },
        "id": "y2rKIozYELfH",
        "outputId": "98bcfd25-1978-4e2b-a755-ae7b278ec745"
      },
      "source": [
        "!pip install tensorflow-addons"
      ],
      "execution_count": 4,
      "outputs": [
        {
          "output_type": "stream",
          "name": "stdout",
          "text": [
            "Collecting tensorflow-addons\n",
            "  Downloading tensorflow_addons-0.15.0-cp37-cp37m-manylinux_2_12_x86_64.manylinux2010_x86_64.whl (1.1 MB)\n",
            "\u001b[?25l\r\u001b[K     |▎                               | 10 kB 21.1 MB/s eta 0:00:01\r\u001b[K     |▋                               | 20 kB 28.2 MB/s eta 0:00:01\r\u001b[K     |▉                               | 30 kB 22.8 MB/s eta 0:00:01\r\u001b[K     |█▏                              | 40 kB 17.1 MB/s eta 0:00:01\r\u001b[K     |█▌                              | 51 kB 10.0 MB/s eta 0:00:01\r\u001b[K     |█▊                              | 61 kB 8.3 MB/s eta 0:00:01\r\u001b[K     |██                              | 71 kB 9.2 MB/s eta 0:00:01\r\u001b[K     |██▍                             | 81 kB 10.2 MB/s eta 0:00:01\r\u001b[K     |██▋                             | 92 kB 8.3 MB/s eta 0:00:01\r\u001b[K     |███                             | 102 kB 9.0 MB/s eta 0:00:01\r\u001b[K     |███▎                            | 112 kB 9.0 MB/s eta 0:00:01\r\u001b[K     |███▌                            | 122 kB 9.0 MB/s eta 0:00:01\r\u001b[K     |███▉                            | 133 kB 9.0 MB/s eta 0:00:01\r\u001b[K     |████▏                           | 143 kB 9.0 MB/s eta 0:00:01\r\u001b[K     |████▍                           | 153 kB 9.0 MB/s eta 0:00:01\r\u001b[K     |████▊                           | 163 kB 9.0 MB/s eta 0:00:01\r\u001b[K     |█████                           | 174 kB 9.0 MB/s eta 0:00:01\r\u001b[K     |█████▎                          | 184 kB 9.0 MB/s eta 0:00:01\r\u001b[K     |█████▋                          | 194 kB 9.0 MB/s eta 0:00:01\r\u001b[K     |█████▉                          | 204 kB 9.0 MB/s eta 0:00:01\r\u001b[K     |██████▏                         | 215 kB 9.0 MB/s eta 0:00:01\r\u001b[K     |██████▌                         | 225 kB 9.0 MB/s eta 0:00:01\r\u001b[K     |██████▊                         | 235 kB 9.0 MB/s eta 0:00:01\r\u001b[K     |███████                         | 245 kB 9.0 MB/s eta 0:00:01\r\u001b[K     |███████▍                        | 256 kB 9.0 MB/s eta 0:00:01\r\u001b[K     |███████▋                        | 266 kB 9.0 MB/s eta 0:00:01\r\u001b[K     |████████                        | 276 kB 9.0 MB/s eta 0:00:01\r\u001b[K     |████████▎                       | 286 kB 9.0 MB/s eta 0:00:01\r\u001b[K     |████████▌                       | 296 kB 9.0 MB/s eta 0:00:01\r\u001b[K     |████████▉                       | 307 kB 9.0 MB/s eta 0:00:01\r\u001b[K     |█████████                       | 317 kB 9.0 MB/s eta 0:00:01\r\u001b[K     |█████████▍                      | 327 kB 9.0 MB/s eta 0:00:01\r\u001b[K     |█████████▊                      | 337 kB 9.0 MB/s eta 0:00:01\r\u001b[K     |██████████                      | 348 kB 9.0 MB/s eta 0:00:01\r\u001b[K     |██████████▎                     | 358 kB 9.0 MB/s eta 0:00:01\r\u001b[K     |██████████▋                     | 368 kB 9.0 MB/s eta 0:00:01\r\u001b[K     |██████████▉                     | 378 kB 9.0 MB/s eta 0:00:01\r\u001b[K     |███████████▏                    | 389 kB 9.0 MB/s eta 0:00:01\r\u001b[K     |███████████▌                    | 399 kB 9.0 MB/s eta 0:00:01\r\u001b[K     |███████████▊                    | 409 kB 9.0 MB/s eta 0:00:01\r\u001b[K     |████████████                    | 419 kB 9.0 MB/s eta 0:00:01\r\u001b[K     |████████████▍                   | 430 kB 9.0 MB/s eta 0:00:01\r\u001b[K     |████████████▋                   | 440 kB 9.0 MB/s eta 0:00:01\r\u001b[K     |█████████████                   | 450 kB 9.0 MB/s eta 0:00:01\r\u001b[K     |█████████████▎                  | 460 kB 9.0 MB/s eta 0:00:01\r\u001b[K     |█████████████▌                  | 471 kB 9.0 MB/s eta 0:00:01\r\u001b[K     |█████████████▉                  | 481 kB 9.0 MB/s eta 0:00:01\r\u001b[K     |██████████████                  | 491 kB 9.0 MB/s eta 0:00:01\r\u001b[K     |██████████████▍                 | 501 kB 9.0 MB/s eta 0:00:01\r\u001b[K     |██████████████▊                 | 512 kB 9.0 MB/s eta 0:00:01\r\u001b[K     |███████████████                 | 522 kB 9.0 MB/s eta 0:00:01\r\u001b[K     |███████████████▎                | 532 kB 9.0 MB/s eta 0:00:01\r\u001b[K     |███████████████▋                | 542 kB 9.0 MB/s eta 0:00:01\r\u001b[K     |███████████████▉                | 552 kB 9.0 MB/s eta 0:00:01\r\u001b[K     |████████████████▏               | 563 kB 9.0 MB/s eta 0:00:01\r\u001b[K     |████████████████▌               | 573 kB 9.0 MB/s eta 0:00:01\r\u001b[K     |████████████████▊               | 583 kB 9.0 MB/s eta 0:00:01\r\u001b[K     |█████████████████               | 593 kB 9.0 MB/s eta 0:00:01\r\u001b[K     |█████████████████▍              | 604 kB 9.0 MB/s eta 0:00:01\r\u001b[K     |█████████████████▋              | 614 kB 9.0 MB/s eta 0:00:01\r\u001b[K     |██████████████████              | 624 kB 9.0 MB/s eta 0:00:01\r\u001b[K     |██████████████████▏             | 634 kB 9.0 MB/s eta 0:00:01\r\u001b[K     |██████████████████▌             | 645 kB 9.0 MB/s eta 0:00:01\r\u001b[K     |██████████████████▉             | 655 kB 9.0 MB/s eta 0:00:01\r\u001b[K     |███████████████████             | 665 kB 9.0 MB/s eta 0:00:01\r\u001b[K     |███████████████████▍            | 675 kB 9.0 MB/s eta 0:00:01\r\u001b[K     |███████████████████▊            | 686 kB 9.0 MB/s eta 0:00:01\r\u001b[K     |████████████████████            | 696 kB 9.0 MB/s eta 0:00:01\r\u001b[K     |████████████████████▎           | 706 kB 9.0 MB/s eta 0:00:01\r\u001b[K     |████████████████████▋           | 716 kB 9.0 MB/s eta 0:00:01\r\u001b[K     |████████████████████▉           | 727 kB 9.0 MB/s eta 0:00:01\r\u001b[K     |█████████████████████▏          | 737 kB 9.0 MB/s eta 0:00:01\r\u001b[K     |█████████████████████▌          | 747 kB 9.0 MB/s eta 0:00:01\r\u001b[K     |█████████████████████▊          | 757 kB 9.0 MB/s eta 0:00:01\r\u001b[K     |██████████████████████          | 768 kB 9.0 MB/s eta 0:00:01\r\u001b[K     |██████████████████████▎         | 778 kB 9.0 MB/s eta 0:00:01\r\u001b[K     |██████████████████████▋         | 788 kB 9.0 MB/s eta 0:00:01\r\u001b[K     |███████████████████████         | 798 kB 9.0 MB/s eta 0:00:01\r\u001b[K     |███████████████████████▏        | 808 kB 9.0 MB/s eta 0:00:01\r\u001b[K     |███████████████████████▌        | 819 kB 9.0 MB/s eta 0:00:01\r\u001b[K     |███████████████████████▉        | 829 kB 9.0 MB/s eta 0:00:01\r\u001b[K     |████████████████████████        | 839 kB 9.0 MB/s eta 0:00:01\r\u001b[K     |████████████████████████▍       | 849 kB 9.0 MB/s eta 0:00:01\r\u001b[K     |████████████████████████▊       | 860 kB 9.0 MB/s eta 0:00:01\r\u001b[K     |█████████████████████████       | 870 kB 9.0 MB/s eta 0:00:01\r\u001b[K     |█████████████████████████▎      | 880 kB 9.0 MB/s eta 0:00:01\r\u001b[K     |█████████████████████████▋      | 890 kB 9.0 MB/s eta 0:00:01\r\u001b[K     |█████████████████████████▉      | 901 kB 9.0 MB/s eta 0:00:01\r\u001b[K     |██████████████████████████▏     | 911 kB 9.0 MB/s eta 0:00:01\r\u001b[K     |██████████████████████████▌     | 921 kB 9.0 MB/s eta 0:00:01\r\u001b[K     |██████████████████████████▊     | 931 kB 9.0 MB/s eta 0:00:01\r\u001b[K     |███████████████████████████     | 942 kB 9.0 MB/s eta 0:00:01\r\u001b[K     |███████████████████████████▎    | 952 kB 9.0 MB/s eta 0:00:01\r\u001b[K     |███████████████████████████▋    | 962 kB 9.0 MB/s eta 0:00:01\r\u001b[K     |████████████████████████████    | 972 kB 9.0 MB/s eta 0:00:01\r\u001b[K     |████████████████████████████▏   | 983 kB 9.0 MB/s eta 0:00:01\r\u001b[K     |████████████████████████████▌   | 993 kB 9.0 MB/s eta 0:00:01\r\u001b[K     |████████████████████████████▉   | 1.0 MB 9.0 MB/s eta 0:00:01\r\u001b[K     |█████████████████████████████   | 1.0 MB 9.0 MB/s eta 0:00:01\r\u001b[K     |█████████████████████████████▍  | 1.0 MB 9.0 MB/s eta 0:00:01\r\u001b[K     |█████████████████████████████▊  | 1.0 MB 9.0 MB/s eta 0:00:01\r\u001b[K     |██████████████████████████████  | 1.0 MB 9.0 MB/s eta 0:00:01\r\u001b[K     |██████████████████████████████▎ | 1.1 MB 9.0 MB/s eta 0:00:01\r\u001b[K     |██████████████████████████████▋ | 1.1 MB 9.0 MB/s eta 0:00:01\r\u001b[K     |██████████████████████████████▉ | 1.1 MB 9.0 MB/s eta 0:00:01\r\u001b[K     |███████████████████████████████▏| 1.1 MB 9.0 MB/s eta 0:00:01\r\u001b[K     |███████████████████████████████▍| 1.1 MB 9.0 MB/s eta 0:00:01\r\u001b[K     |███████████████████████████████▊| 1.1 MB 9.0 MB/s eta 0:00:01\r\u001b[K     |████████████████████████████████| 1.1 MB 9.0 MB/s \n",
            "\u001b[?25hRequirement already satisfied: typeguard>=2.7 in /usr/local/lib/python3.7/dist-packages (from tensorflow-addons) (2.7.1)\n",
            "Installing collected packages: tensorflow-addons\n",
            "Successfully installed tensorflow-addons-0.15.0\n"
          ]
        }
      ]
    },
    {
      "cell_type": "code",
      "metadata": {
        "id": "mtHKxYNKDx4D"
      },
      "source": [
        "import tensorflow as tf\n",
        "import tensorflow_addons as tfa\n",
        "import math\n",
        "\n",
        "img_shape = (480, 640, 3)\n",
        "    \n",
        "def shift_img(output_img, label_img, width_shift_range, height_shift_range):\n",
        "    \"\"\"This fn will perform the horizontal or vertical shift\"\"\"\n",
        "    if width_shift_range or height_shift_range:\n",
        "        if width_shift_range:\n",
        "            width_shift_range = tf.random.uniform([],  \n",
        "                                                  -width_shift_range * img_shape[1],\n",
        "                                                  width_shift_range * img_shape[1])\n",
        "        if height_shift_range:\n",
        "            height_shift_range = tf.random.uniform([],\n",
        "                                                   -height_shift_range * img_shape[0],\n",
        "                                                   height_shift_range * img_shape[0])\n",
        "        output_img = tfa.image.translate(output_img,\n",
        "                                         [width_shift_range, height_shift_range])\n",
        "        label_img = tfa.image.translate(label_img,\n",
        "                                        [width_shift_range, height_shift_range])\n",
        "    return output_img, label_img\n",
        "\n",
        "def flip_img(horizontal_flip, vertically_flip, tr_img, label_img):\n",
        "    if horizontal_flip:\n",
        "        flip_prob = tf.random.uniform([], 0.0, 1.0)\n",
        "        tr_img, label_img = tf.cond(tf.less(flip_prob, 0.5),\n",
        "                                lambda: (tf.image.flip_left_right(tr_img), tf.image.flip_left_right(label_img)), \n",
        "                                lambda: (tr_img, label_img))\n",
        "    if vertically_flip:\n",
        "        flip_prob = tf.random.uniform([], 0.0, 1.0)\n",
        "        tr_img, label_img = tf.cond(tf.less(flip_prob, 0.5),\n",
        "                                lambda: (tf.image.flip_up_down(tr_img), tf.image.flip_up_down(label_img)), \n",
        "                                lambda: (tr_img, label_img))\n",
        "    return tr_img, label_img\n",
        "\n",
        "\n",
        "def rotate_img(tr_img, label_img):\n",
        "    rotate_prob = tf.random.uniform([], 0.0, 1.0)\n",
        "    degrees = tf.random.uniform([], -45, 45)\n",
        "    tr_img, label_img = tf.cond(tf.less(rotate_prob, 0.5),\n",
        "                            lambda: (tfa.image.rotate(tr_img, degrees * math.pi / 180, interpolation = 'BILINEAR', fill_mode= 'reflect'), tfa.image.rotate(label_img, degrees * math.pi / 180, interpolation = 'BILINEAR' , fill_mode= 'reflect')), \n",
        "                            lambda: (tr_img, label_img))\n",
        "    return tr_img, label_img"
      ],
      "execution_count": 5,
      "outputs": []
    },
    {
      "cell_type": "code",
      "metadata": {
        "id": "M0NC6phv7NdO"
      },
      "source": [
        "def _augment(img,\n",
        "             label_img,\n",
        "             resize=None,  # Resize the image to some size e.g. [256, 256]\n",
        "             scale=1,  # Scale image e.g. 1 / 255.\n",
        "             hue_delta=0.01,  # Adjust the hue of an RGB image by random factor\n",
        "             horizontal_flip=True,    # Random left right flip,\n",
        "             vertically_flip=True,    # Random up down flip,\n",
        "             width_shift_range=.1,    # Randomly translate the image horizontally\n",
        "             height_shift_range=.1):    # Randomly translate the image vertically\n",
        "     \n",
        "    if resize is not None:\n",
        "        # Resize both images\n",
        "        img = tf.expand_dims(tf.argmax(img,axis=-1),-1)\n",
        "        label_img = tf.expand_dims(tf.argmax(label_img,axis=-1),-1)\n",
        "        label_img = tf.image.resize(label_img, resize)\n",
        "        img = tf.image.resize(img, resize)\n",
        "  \n",
        "    if hue_delta:\n",
        "        img = tf.image.random_hue(img, hue_delta)\n",
        "  \n",
        "    img, label_img = flip_img(horizontal_flip, vertically_flip, img, label_img)                               \n",
        "    img, label_img = shift_img(img, label_img, width_shift_range, height_shift_range)                      \n",
        "    img, label_img = rotate_img(img, label_img)\n",
        "    label_img = tf.cast(label_img, dtype=tf.float32) * scale\n",
        "    img = tf.cast(img, dtype=tf.float32) * scale\n",
        "    return img, label_img"
      ],
      "execution_count": 6,
      "outputs": []
    },
    {
      "cell_type": "code",
      "metadata": {
        "id": "5J_pESSm7z-q"
      },
      "source": [
        "import tensorflow as tf\n",
        "\n",
        "def _process_pathnames(X, Y):\n",
        "    img = tf.convert_to_tensor(X)\n",
        "    label = tf.convert_to_tensor(Y)\n",
        "    return img, label"
      ],
      "execution_count": 7,
      "outputs": []
    },
    {
      "cell_type": "code",
      "metadata": {
        "id": "IvadCVsN73vJ"
      },
      "source": [
        "batch_size = 4\n",
        "\n",
        "import functools\n",
        "import tensorflow as tf\n",
        "\n",
        "def gen_train():\n",
        "    for x, y in zip(X, Y):\n",
        "        yield _process_pathnames(x, y)\n",
        "\n",
        "def gen_test():\n",
        "    for x, y in zip(X_val, Y_val):\n",
        "        yield _process_pathnames(x, y)\n",
        "\n",
        "def get_dataset(#X,Y, \n",
        "            preproc_fn = functools.partial(_augment),\n",
        "            threads = 2,\n",
        "            batch_size = batch_size,\n",
        "            is_train = True):\n",
        "  if is_train:\n",
        "    dataset = tf.data.Dataset.from_generator(gen_train, (tf.float32, tf.float32), ((480, 640, 3), (480, 640, 1)))\n",
        "  else:\n",
        "    dataset = tf.data.Dataset.from_generator(gen_test, (tf.float32, tf.float32), ((480, 640, 3), (480, 640, 1)))\n",
        "  dataset = dataset.batch(batch_size)\n",
        "  print(dataset)\n",
        "  return dataset"
      ],
      "execution_count": 8,
      "outputs": []
    },
    {
      "cell_type": "code",
      "metadata": {
        "id": "W5f_F-tu76zX",
        "colab": {
          "base_uri": "https://localhost:8080/"
        },
        "outputId": "40801bb4-1b1e-4863-834b-cf80d19b7edc"
      },
      "source": [
        "train_dataset = get_dataset(is_train=True)\n",
        "test_dataset = get_dataset(is_train=False)"
      ],
      "execution_count": 9,
      "outputs": [
        {
          "output_type": "stream",
          "name": "stdout",
          "text": [
            "<BatchDataset shapes: ((None, 480, 640, 3), (None, 480, 640, 1)), types: (tf.float32, tf.float32)>\n",
            "<BatchDataset shapes: ((None, 480, 640, 3), (None, 480, 640, 1)), types: (tf.float32, tf.float32)>\n"
          ]
        }
      ]
    },
    {
      "cell_type": "code",
      "metadata": {
        "id": "GkyOAKnE78CG",
        "colab": {
          "base_uri": "https://localhost:8080/"
        },
        "outputId": "e842b222-a002-416d-86ae-d87c108b4f91"
      },
      "source": [
        "train_dataset.take(1)"
      ],
      "execution_count": 10,
      "outputs": [
        {
          "output_type": "execute_result",
          "data": {
            "text/plain": [
              "<TakeDataset shapes: ((None, 480, 640, 3), (None, 480, 640, 1)), types: (tf.float32, tf.float32)>"
            ]
          },
          "metadata": {},
          "execution_count": 10
        }
      ]
    },
    {
      "cell_type": "markdown",
      "metadata": {
        "id": "W69oTTi47_1i"
      },
      "source": [
        "## Model"
      ]
    },
    {
      "cell_type": "code",
      "metadata": {
        "id": "a-pt7JNPEhUl"
      },
      "source": [
        "from tensorflow.python.keras import layers\n",
        "from tensorflow.python.keras import models\n",
        "from tensorflow.python.keras import losses"
      ],
      "execution_count": 11,
      "outputs": []
    },
    {
      "cell_type": "code",
      "metadata": {
        "id": "pnNRnHQV8Dme"
      },
      "source": [
        "class Conv(tf.keras.layers.Layer):\n",
        "    def __init__(self, num_filters, kernel_size):\n",
        "        super(Conv, self).__init__()\n",
        "        self.conv = layers.Conv2D(num_filters, kernel_size, padding='same', kernel_initializer='he_normal')\n",
        "        self.bn = layers.BatchNormalization()\n",
        "        self.dropout = layers.Dropout(0.2)\n",
        "\n",
        "    def call(self, inputs):\n",
        "        x = self.conv(inputs)\n",
        "        x = self.bn(x)\n",
        "        x = self.dropout(x)\n",
        "        x = layers.ReLU()(x)\n",
        "        return x"
      ],
      "execution_count": 12,
      "outputs": []
    },
    {
      "cell_type": "code",
      "metadata": {
        "id": "ZhZ_sHvT8B1f"
      },
      "source": [
        "class ConvBlock(tf.keras.layers.Layer):\n",
        "    def __init__(self, num_filters):\n",
        "        super(ConvBlock, self).__init__()\n",
        "        self.conv1 = Conv(num_filters, 3)\n",
        "        self.conv2 = Conv(num_filters, 3)\n",
        "\n",
        "    def call(self, inputs):\n",
        "        conv_block = self.conv1(inputs)\n",
        "        conv_block = self.conv2(conv_block)\n",
        "        return conv_block\n",
        "\n",
        "class EncoderBlock(tf.keras.layers.Layer):\n",
        "    def __init__(self, num_filters):\n",
        "        super(EncoderBlock, self).__init__()\n",
        "        self.conv_block = ConvBlock(num_filters)\n",
        "        self.encoder_pool = layers.Conv2D(num_filters, 3, padding='same', strides=2, activation='relu', kernel_initializer='he_normal')\n",
        "        \n",
        "    def call(self, inputs):\n",
        "        encoder = self.conv_block(inputs)\n",
        "        encoder_pool = self.encoder_pool(encoder)\n",
        "\n",
        "        return encoder_pool, encoder                                         \n",
        "\n",
        "\n",
        "class DecoderBlock(tf.keras.layers.Layer):                                         \n",
        "    def __init__(self, num_filters):\n",
        "        super(DecoderBlock, self).__init__()\n",
        "        self.convT = layers.Conv2DTranspose(num_filters, 3, strides=2, padding='same', kernel_initializer='he_normal')\n",
        "        self.bn = layers.BatchNormalization()\n",
        "        self.conv_block = ConvBlock(num_filters)\n",
        "\n",
        "    def call(self, input_tensor, concat_tensor):\n",
        "        decoder = self.convT(input_tensor)\n",
        "        decoder = self.bn(decoder)\n",
        "        decoder = layers.ReLU()(decoder)\n",
        "        decoder = layers.concatenate([decoder,concat_tensor])\n",
        "        decoder = self.conv_block(decoder)\n",
        "\n",
        "        return decoder"
      ],
      "execution_count": 13,
      "outputs": []
    },
    {
      "cell_type": "code",
      "metadata": {
        "id": "-muYTAKffBvE"
      },
      "source": [
        "class UNet(tf.keras.Model):\n",
        "    def __init__(self):\n",
        "        super(UNet, self).__init__()\n",
        "        self.encoder_block1 = EncoderBlock(16)\n",
        "        self.encoder_block2 = EncoderBlock(32)\n",
        "        self.encoder_block3 = EncoderBlock(64)\n",
        "        self.encoder_block4 = EncoderBlock(128)\n",
        "        self.encoder_block5 = EncoderBlock(256)\n",
        "        \n",
        "        self.center = ConvBlock(512)\n",
        "        \n",
        "        self.decoder_block5 = DecoderBlock(256)\n",
        "        self.decoder_block4 = DecoderBlock(128)\n",
        "        self.decoder_block3 = DecoderBlock(64)\n",
        "        self.decoder_block2 = DecoderBlock(32) \n",
        "        self.decoder_block1 = DecoderBlock(16) \n",
        "\n",
        "        self.output_conv = layers.Conv2D(1, 1, padding='same', activation='sigmoid', kernel_initializer='glorot_uniform' )\n",
        "\n",
        "    def call(self, inputs):\n",
        "        encoder1_pool, encoder1_skip = self.encoder_block1(inputs)\n",
        "        encoder2_pool, encoder2_skip = self.encoder_block2(encoder1_pool)\n",
        "        encoder3_pool, encoder3_skip = self.encoder_block3(encoder2_pool)\n",
        "        encoder4_pool, encoder4_skip = self.encoder_block4(encoder3_pool)\n",
        "        encoder5_pool, encoder5_skip = self.encoder_block5(encoder4_pool)\n",
        "        \n",
        "        center = self.center(encoder5_pool)\n",
        "        \n",
        "        decoder5 = self.decoder_block5(center, encoder5_skip)\n",
        "        decoder4 = self.decoder_block4(decoder5,encoder4_skip)\n",
        "        decoder3 = self.decoder_block3(decoder4,encoder3_skip)\n",
        "        decoder2 = self.decoder_block2(decoder3,encoder2_skip)\n",
        "        decoder1 = self.decoder_block1(decoder2,encoder1_skip)\n",
        "\n",
        "        outputs = self.output_conv(decoder1)\n",
        "        return outputs"
      ],
      "execution_count": 17,
      "outputs": []
    },
    {
      "cell_type": "code",
      "metadata": {
        "id": "U33peOftdNjd",
        "colab": {
          "base_uri": "https://localhost:8080/"
        },
        "outputId": "8c3b0b0b-3841-4bc4-fc63-0a00249a0210"
      },
      "source": [
        "model = UNet()\n",
        "outputs = model(tf.random.normal([batch_size, 480, 640, 3]))\n",
        "print(outputs.shape)"
      ],
      "execution_count": 18,
      "outputs": [
        {
          "output_type": "stream",
          "name": "stdout",
          "text": [
            "(4, 480, 640, 1)\n"
          ]
        }
      ]
    },
    {
      "cell_type": "code",
      "metadata": {
        "colab": {
          "base_uri": "https://localhost:8080/"
        },
        "id": "QdepTpMDdWMt",
        "outputId": "0e69ae82-0046-4e77-fb69-217e48241e7a"
      },
      "source": [
        "model.summary()"
      ],
      "execution_count": 19,
      "outputs": [
        {
          "output_type": "stream",
          "name": "stdout",
          "text": [
            "Model: \"u_net_1\"\n",
            "_________________________________________________________________\n",
            " Layer (type)                Output Shape              Param #   \n",
            "=================================================================\n",
            " encoder_block_5 (EncoderBlo  multiple                 5216      \n",
            " ck)                                                             \n",
            "                                                                 \n",
            " encoder_block_6 (EncoderBlo  multiple                 23392     \n",
            " ck)                                                             \n",
            "                                                                 \n",
            " encoder_block_7 (EncoderBlo  multiple                 92864     \n",
            " ck)                                                             \n",
            "                                                                 \n",
            " encoder_block_8 (EncoderBlo  multiple                 370048    \n",
            " ck)                                                             \n",
            "                                                                 \n",
            " encoder_block_9 (EncoderBlo  multiple                 1477376   \n",
            " ck)                                                             \n",
            "                                                                 \n",
            " conv_block_16 (ConvBlock)   multiple                  3544064   \n",
            "                                                                 \n",
            " decoder_block_5 (DecoderBlo  multiple                 2952960   \n",
            " ck)                                                             \n",
            "                                                                 \n",
            " decoder_block_6 (DecoderBlo  multiple                 739200    \n",
            " ck)                                                             \n",
            "                                                                 \n",
            " decoder_block_7 (DecoderBlo  multiple                 185280    \n",
            " ck)                                                             \n",
            "                                                                 \n",
            " decoder_block_8 (DecoderBlo  multiple                 46560     \n",
            " ck)                                                             \n",
            "                                                                 \n",
            " decoder_block_9 (DecoderBlo  multiple                 11760     \n",
            " ck)                                                             \n",
            "                                                                 \n",
            "=================================================================\n",
            "Total params: 9,448,737\n",
            "Trainable params: 9,441,729\n",
            "Non-trainable params: 7,008\n",
            "_________________________________________________________________\n"
          ]
        }
      ]
    },
    {
      "cell_type": "markdown",
      "metadata": {
        "id": "2uPx9C_e8QDI"
      },
      "source": [
        "## Train"
      ]
    },
    {
      "cell_type": "code",
      "metadata": {
        "id": "fPpTZLU78Rff"
      },
      "source": [
        "def dice_coeff(y_true, y_pred): \n",
        "    smooth = 1e-10        \n",
        "    # Flatten\n",
        "    y_true_f = tf.reshape(y_true, [-1])\n",
        "    y_pred_f = tf.reshape(y_pred, [-1])\n",
        "    intersection = tf.reduce_sum(y_true_f * y_pred_f)\n",
        "    score = (2. * intersection + smooth) / (tf.reduce_sum(tf.square(y_true_f)) + \\\n",
        "                                            tf.reduce_sum(tf.square(y_pred_f)) + smooth)\n",
        "\n",
        "    return score"
      ],
      "execution_count": 20,
      "outputs": []
    },
    {
      "cell_type": "code",
      "metadata": {
        "id": "TlI9khEn8V-u"
      },
      "source": [
        "def dice_loss(y_true, y_pred):\n",
        "    loss = 1 - dice_coeff(y_true, y_pred)\n",
        "    return loss"
      ],
      "execution_count": 21,
      "outputs": []
    },
    {
      "cell_type": "code",
      "metadata": {
        "id": "wDo8kls08YL6"
      },
      "source": [
        "def bce_dice_loss(y_true, y_pred):\n",
        "    loss = tf.reduce_mean(losses.binary_crossentropy(y_true, y_pred)) + \\\n",
        "          dice_loss(y_true, y_pred)\n",
        "    return loss"
      ],
      "execution_count": 22,
      "outputs": []
    },
    {
      "cell_type": "code",
      "metadata": {
        "id": "wEFEWybDzNsL"
      },
      "source": [
        "from sklearn.metrics import confusion_matrix\n",
        "\n",
        "def dice(y_true, predictions):\n",
        "    y_true = tf.reshape(y_true, -1).numpy()\n",
        "    predictions = tf.reshape(predictions, -1).numpy()\n",
        "    tn, fp, fn, tp  = confusion_matrix(y_true, predictions).ravel()\n",
        "    DICE = 2*tp / (2*tp + fp + fn)\n",
        "    return DICE\n",
        "\n",
        "def jaccard(labels, predictions):\n",
        "    dice_val = dice(labels, predictions)\n",
        "    return dice_val / (2 - dice_val)"
      ],
      "execution_count": 23,
      "outputs": []
    },
    {
      "cell_type": "code",
      "metadata": {
        "id": "RjuhuVHW8aA1"
      },
      "source": [
        "import os\n",
        "import matplotlib.pyplot as plt\n",
        "optimizer = tf.keras.optimizers.Adam(1e-4)\n",
        "\n",
        "checkpoint_prefix = \"ckpt\""
      ],
      "execution_count": 26,
      "outputs": []
    },
    {
      "cell_type": "code",
      "metadata": {
        "id": "jngRikCELIvQ"
      },
      "source": [
        "checkpoint = tf.train.Checkpoint(optimizer=optimizer,\n",
        "                        model=model)\n",
        "\n",
        "checkpoint.restore(\"A2C\")"
      ],
      "execution_count": null,
      "outputs": []
    },
    {
      "cell_type": "code",
      "metadata": {
        "id": "g0ufIs9T8dIN",
        "colab": {
          "base_uri": "https://localhost:8080/",
          "height": 857
        },
        "outputId": "b06ff2a4-11ea-40f8-9099-307a9ce40502"
      },
      "source": [
        "from IPython.display import clear_output\n",
        "import time\n",
        "\n",
        "# save loss values for plot\n",
        "loss_history = []\n",
        "val_loss_history = []\n",
        "metric_history = []\n",
        "\n",
        "global_step = 0 # step 수 정의 (선택)\n",
        "print_steps = 100 # tf.gradient_tape\n",
        "save_epochs = 2 # tf.gradient_tape\n",
        "max_epochs = 50\n",
        "\n",
        "patience = 10\n",
        "\n",
        "for epoch in range(max_epochs):\n",
        "    if(patience<-1):\n",
        "      print(patience)\n",
        "      break\n",
        "    #print(\"------------epoch---------\", epoch)\n",
        "    for images, labels in train_dataset: # 데이터 로드 파트\n",
        "        start_time = time.time()\n",
        "        global_step = global_step + 1\n",
        "            \n",
        "        with tf.GradientTape() as tape: # 모델 학습 파트\n",
        "            predictions = model(images, training=True) # [batch_size, 256,256,3]\n",
        "            # [batch_size, 256, 256, 1] - prediction\n",
        "            loss = bce_dice_loss(labels, predictions) # label [batch_size, 256, 256, 1]\n",
        "        # 가중치 업데이트 파트\n",
        "        gradients = tape.gradient(loss, model.trainable_variables)\n",
        "        optimizer.apply_gradients(zip(gradients, model.trainable_variables))\n",
        "            \n",
        "        # 학습 상태 출력\n",
        "        epochs = global_step * batch_size / float(num_train_examples)\n",
        "        loss_history.append([epochs, loss])\n",
        "\n",
        "        duration = time.time() - start_time\n",
        "        if global_step % print_steps == 0:\n",
        "            clear_output(wait=True)\n",
        "            examples_per_sec = batch_size  / float(duration)\n",
        "            print(\"Epochs: {:.2f} global_step: {} loss: {:.3f} ({:.2f} examples/sec; {:.3f} sec/batch)\".format(\n",
        "                          epochs, global_step, loss, examples_per_sec, duration))\n",
        "              \n",
        "            # print sample image   \n",
        "\n",
        "            for test_images, test_labels in test_dataset.take(1):\n",
        "                predictions = model(test_images, training=False)\n",
        "                loss = bce_dice_loss(test_labels, predictions)\n",
        "\n",
        "            val_loss_history.append([epochs, loss])\n",
        "\n",
        "            if len(val_loss_history) == 0:\n",
        "               pass\n",
        "            elif val_loss_history[-1][-1] < loss:\n",
        "                patience -= 1\n",
        "                print('patience :', patience)\n",
        "\n",
        "            plt.figure(figsize=(20, 20))\n",
        "            plt.subplot(1, 3, 1)\n",
        "            plt.imshow(test_images[0,:,:,:])\n",
        "            plt.title(\"Input image\")\n",
        "              \n",
        "            plt.subplot(1, 3, 2)\n",
        "            plt.imshow(test_labels[0,:,:,0])\n",
        "            plt.title(\"Actual Mask\")\n",
        "              \n",
        "            plt.subplot(1, 3, 3)\n",
        "            plt.imshow(tf.round(predictions[0,:,:,0]))\n",
        "            plt.title(\"Predicted Mask\")\n",
        "            plt.show() \n",
        "\n",
        "            loss_history_ = np.asarray(loss_history)\n",
        "            val_loss_history_ = np.asarray(val_loss_history)\n",
        "            plt.figure(figsize=(4, 4))\n",
        "            plt.plot(loss_history_[:,0], loss_history_[:,1])\n",
        "            plt.plot(val_loss_history_[:,0], val_loss_history_[:,1])\n",
        "            plt.show()\n",
        "\n",
        "            jaccards_mean =[]\n",
        "            dice_mean = []\n",
        "\n",
        "            for test_images, test_labels in test_dataset:\n",
        "                predictions = model(test_images, training=False)\n",
        "                for i in range(test_labels.shape[0]):\n",
        "                    dices = dice(test_labels[i], tf.round(predictions[i]))\n",
        "                    dice_mean.append(dices)\n",
        "                    jaccards_mean.append(dices / (2 - dices))\n",
        "\n",
        "            jacc_mean = np.mean(jaccards_mean)\n",
        "            dice_mean = np.mean(dice_mean)\n",
        "            print(\"mean_dice: {}, mean_jacc: {}\".format(dice_mean, jacc_mean))\n",
        "            metric_history.append([epochs, dice_mean, jacc_mean])\n",
        "\n",
        "            metric_history_ = np.asarray(metric_history)\n",
        "            plt.figure(figsize=(4, 4))\n",
        "            plt.plot(metric_history_[:,0], metric_history_[:,1])\n",
        "            plt.plot(metric_history_[:,0], metric_history_[:,2])\n",
        "            plt.show()\n",
        "\n",
        "      # saving (checkpoint) the model periodically\n",
        "    if (epoch+1) % save_epochs == 0:\n",
        "        checkpoint = tf.train.Checkpoint(optimizer=optimizer,\n",
        "                               model=model)\n",
        "        checkpoint.save(file_prefix = checkpoint_prefix+str(epoch+1))"
      ],
      "execution_count": null,
      "outputs": [
        {
          "output_type": "stream",
          "name": "stderr",
          "text": [
            "Clipping input data to the valid range for imshow with RGB data ([0..1] for floats or [0..255] for integers).\n"
          ]
        },
        {
          "output_type": "stream",
          "name": "stdout",
          "text": [
            "Epochs: 45.50 global_step: 9100 loss: 0.027 (19.57 examples/sec; 0.204 sec/batch)\n"
          ]
        },
        {
          "output_type": "display_data",
          "data": {
            "image/png": "[encoded data removed]",
            "text/plain": [
              "<Figure size 1440x1440 with 3 Axes>"
            ]
          },
          "metadata": {
            "needs_background": "light"
          }
        },
        {
          "output_type": "display_data",
          "data": {
            "image/png": "[encoded data removed]",
            "text/plain": [
              "<Figure size 288x288 with 1 Axes>"
            ]
          },
          "metadata": {
            "needs_background": "light"
          }
        },
        {
          "output_type": "stream",
          "name": "stdout",
          "text": [
            "mean_dice: 0.9224568644775221, mean_jacc: 0.8611130135312435\n"
          ]
        },
        {
          "output_type": "display_data",
          "data": {
            "image/png": "[encoded data removed]",
            "text/plain": [
              "<Figure size 288x288 with 1 Axes>"
            ]
          },
          "metadata": {
            "needs_background": "light"
          }
        }
      ]
    },
    {
      "cell_type": "markdown",
      "metadata": {
        "id": "pkUgwenpi5QO"
      },
      "source": [
        "## Evaluate"
      ]
    },
    {
      "cell_type": "code",
      "metadata": {
        "id": "mXgCGAoH2gzF"
      },
      "source": [
        "loss_history_ = np.asarray(loss_history)\n",
        "val_loss_history_ = np.asarray(val_loss_history)\n",
        "plt.figure(figsize=(4, 4))\n",
        "plt.plot(loss_history_[:,0], loss_history_[:,1])\n",
        "plt.plot(val_loss_history_[:,0], val_loss_history_[:,1])\n",
        "plt.show()"
      ],
      "execution_count": null,
      "outputs": []
    },
    {
      "cell_type": "code",
      "metadata": {
        "id": "TmMuVb0e9JFO"
      },
      "source": [
        "loss_history = np.asarray(loss_history)\n",
        "plt.figure(figsize=(4, 4))\n",
        "plt.plot(loss_history[:,0], loss_history[:,1])\n",
        "plt.show()"
      ],
      "execution_count": null,
      "outputs": []
    },
    {
      "cell_type": "code",
      "metadata": {
        "colab": {
          "base_uri": "https://localhost:8080/"
        },
        "id": "1pFkRWlhsk9c",
        "outputId": "433f4bab-1460-4feb-aa3b-bb9efd5f1a9f"
      },
      "source": [
        "checkpoint = tf.train.Checkpoint(optimizer=optimizer,\n",
        "                        model=model)\n",
        "\n",
        "checkpoint.restore(\"A2C\")"
      ],
      "execution_count": 27,
      "outputs": [
        {
          "output_type": "execute_result",
          "data": {
            "text/plain": [
              "<tensorflow.python.training.tracking.util.CheckpointLoadStatus at 0x7fd059761290>"
            ]
          },
          "metadata": {},
          "execution_count": 27
        }
      ]
    },
    {
      "cell_type": "code",
      "metadata": {
        "colab": {
          "base_uri": "https://localhost:8080/"
        },
        "id": "UI85pyVd16NU",
        "outputId": "10fba27b-8e99-47e3-bee3-b5f9721f841b"
      },
      "source": [
        "jaccards_mean =[]\n",
        "dice_mean = []\n",
        "\n",
        "for test_images, test_labels in test_dataset:\n",
        "    predictions = model(test_images, training=False)\n",
        "    for i in range(test_labels.shape[0]):\n",
        "        dices = dice(test_labels[i], tf.round(predictions[i]))\n",
        "        dice_mean.append(dices)\n",
        "        jaccards_mean.append(dices / (2 - dices))\n",
        "\n",
        "jacc_mean = np.mean(jaccards_mean)\n",
        "dice_mean = np.mean(dice_mean)\n",
        "print(\"mean_dice: {}, mean_jacc: {}\".format(dice_mean, jacc_mean))"
      ],
      "execution_count": 28,
      "outputs": [
        {
          "output_type": "stream",
          "name": "stdout",
          "text": [
            "mean_dice: 0.9372626568114139, mean_jacc: 0.8845628916479535\n"
          ]
        }
      ]
    },
    {
      "cell_type": "code",
      "metadata": {
        "id": "gvMnhc8ZtiN_"
      },
      "source": [
        ""
      ],
      "execution_count": null,
      "outputs": []
    }
  ]
}